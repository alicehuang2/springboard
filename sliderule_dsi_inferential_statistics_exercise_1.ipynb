{
 "cells": [
  {
   "cell_type": "markdown",
   "metadata": {},
   "source": [
    "# What is the True Normal Human Body Temperature? \n",
    "\n",
    "#### Background\n",
    "\n",
    "The mean normal body temperature was held to be 37$^{\\circ}$C or 98.6$^{\\circ}$F for more than 120 years since it was first conceptualized and reported by Carl Wunderlich in a famous 1868 book. But, is this value statistically correct?"
   ]
  },
  {
   "cell_type": "markdown",
   "metadata": {},
   "source": [
    "<h3>Exercises</h3>\n",
    "\n",
    "<p>In this exercise, you will analyze a dataset of human body temperatures and employ the concepts of hypothesis testing, confidence intervals, and statistical significance.</p>\n",
    "\n",
    "<p>Answer the following questions <b>in this notebook below and submit to your Github account</b>.</p> \n",
    "\n",
    "<ol>\n",
    "<li>  Is the distribution of body temperatures normal? \n",
    "    <ul>\n",
    "    <li> Although this is not a requirement for the Central Limit Theorem to hold (read the introduction on Wikipedia's page about the CLT carefully: https://en.wikipedia.org/wiki/Central_limit_theorem), it gives us some peace of mind that the population may also be normally distributed if we assume that this sample is representative of the population.\n",
    "    <li> Think about the way you're going to check for the normality of the distribution. Graphical methods are usually used first, but there are also other ways: https://en.wikipedia.org/wiki/Normality_test\n",
    "    </ul>\n",
    "<li>  Is the sample size large? Are the observations independent?\n",
    "    <ul>\n",
    "    <li> Remember that this is a condition for the Central Limit Theorem, and hence the statistical tests we are using, to apply.\n",
    "    </ul>\n",
    "<li>  Is the true population mean really 98.6 degrees F?\n",
    "    <ul>\n",
    "    <li> First, try a bootstrap hypothesis test.\n",
    "    <li> Now, let's try frequentist statistical testing. Would you use a one-sample or two-sample test? Why?\n",
    "    <li> In this situation, is it appropriate to use the $t$ or $z$ statistic? \n",
    "    <li> Now try using the other test. How is the result be different? Why?\n",
    "    </ul>\n",
    "<li>  Draw a small sample of size 10 from the data and repeat both frequentist tests. \n",
    "    <ul>\n",
    "    <li> Which one is the correct one to use? \n",
    "    <li> What do you notice? What does this tell you about the difference in application of the $t$ and $z$ statistic?\n",
    "    </ul>\n",
    "<li>  At what temperature should we consider someone's temperature to be \"abnormal\"?\n",
    "    <ul>\n",
    "    <li> As in the previous example, try calculating everything using the boostrap approach, as well as the frequentist approach.\n",
    "    <li> Start by computing the margin of error and confidence interval. When calculating the confidence interval, keep in mind that you should use the appropriate formula for one draw, and not N draws.\n",
    "    </ul>\n",
    "<li>  Is there a significant difference between males and females in normal temperature?\n",
    "    <ul>\n",
    "    <li> What testing approach did you use and why?\n",
    "    <li> Write a story with your conclusion in the context of the original problem.\n",
    "    </ul>\n",
    "</ol>\n",
    "\n",
    "You can include written notes in notebook cells using Markdown: \n",
    "   - In the control panel at the top, choose Cell > Cell Type > Markdown\n",
    "   - Markdown syntax: http://nestacms.com/docs/creating-content/markdown-cheat-sheet\n",
    "\n",
    "#### Resources\n",
    "\n",
    "+ Information and data sources: http://www.amstat.org/publications/jse/datasets/normtemp.txt, http://www.amstat.org/publications/jse/jse_data_archive.htm\n",
    "+ Markdown syntax: http://nestacms.com/docs/creating-content/markdown-cheat-sheet\n",
    "\n",
    "****"
   ]
  },
  {
   "cell_type": "code",
   "execution_count": 1,
   "metadata": {},
   "outputs": [],
   "source": [
    "import pandas as pd\n",
    "import numpy as np\n",
    "import seaborn as sns\n",
    "import matplotlib.pyplot as plt\n",
    "%matplotlib inline\n",
    "\n",
    "df = pd.read_csv('data/human_body_temperature.csv')"
   ]
  },
  {
   "cell_type": "code",
   "execution_count": 2,
   "metadata": {},
   "outputs": [
    {
     "data": {
      "text/html": [
       "<div>\n",
       "<style scoped>\n",
       "    .dataframe tbody tr th:only-of-type {\n",
       "        vertical-align: middle;\n",
       "    }\n",
       "\n",
       "    .dataframe tbody tr th {\n",
       "        vertical-align: top;\n",
       "    }\n",
       "\n",
       "    .dataframe thead th {\n",
       "        text-align: right;\n",
       "    }\n",
       "</style>\n",
       "<table border=\"1\" class=\"dataframe\">\n",
       "  <thead>\n",
       "    <tr style=\"text-align: right;\">\n",
       "      <th></th>\n",
       "      <th>temperature</th>\n",
       "      <th>gender</th>\n",
       "      <th>heart_rate</th>\n",
       "    </tr>\n",
       "  </thead>\n",
       "  <tbody>\n",
       "    <tr>\n",
       "      <th>0</th>\n",
       "      <td>99.3</td>\n",
       "      <td>F</td>\n",
       "      <td>68.0</td>\n",
       "    </tr>\n",
       "    <tr>\n",
       "      <th>1</th>\n",
       "      <td>98.4</td>\n",
       "      <td>F</td>\n",
       "      <td>81.0</td>\n",
       "    </tr>\n",
       "    <tr>\n",
       "      <th>2</th>\n",
       "      <td>97.8</td>\n",
       "      <td>M</td>\n",
       "      <td>73.0</td>\n",
       "    </tr>\n",
       "    <tr>\n",
       "      <th>3</th>\n",
       "      <td>99.2</td>\n",
       "      <td>F</td>\n",
       "      <td>66.0</td>\n",
       "    </tr>\n",
       "    <tr>\n",
       "      <th>4</th>\n",
       "      <td>98.0</td>\n",
       "      <td>F</td>\n",
       "      <td>73.0</td>\n",
       "    </tr>\n",
       "  </tbody>\n",
       "</table>\n",
       "</div>"
      ],
      "text/plain": [
       "   temperature gender  heart_rate\n",
       "0         99.3      F        68.0\n",
       "1         98.4      F        81.0\n",
       "2         97.8      M        73.0\n",
       "3         99.2      F        66.0\n",
       "4         98.0      F        73.0"
      ]
     },
     "execution_count": 2,
     "metadata": {},
     "output_type": "execute_result"
    }
   ],
   "source": [
    "# Your work here.\n",
    "df.head()"
   ]
  },
  {
   "cell_type": "code",
   "execution_count": 3,
   "metadata": {},
   "outputs": [
    {
     "name": "stdout",
     "output_type": "stream",
     "text": [
      "<class 'pandas.core.frame.DataFrame'>\n",
      "RangeIndex: 130 entries, 0 to 129\n",
      "Data columns (total 3 columns):\n",
      "temperature    130 non-null float64\n",
      "gender         130 non-null object\n",
      "heart_rate     130 non-null float64\n",
      "dtypes: float64(2), object(1)\n",
      "memory usage: 3.1+ KB\n"
     ]
    }
   ],
   "source": [
    "# 130 data points\n",
    "df.info()"
   ]
  },
  {
   "cell_type": "markdown",
   "metadata": {},
   "source": [
    "### 1. Is the distribution of body temperature normal? \n",
    "\n",
    "Think about ways you're going to check for the normality of distribution. \n",
    "Graphical method used first, other ways:"
   ]
  },
  {
   "cell_type": "code",
   "execution_count": 4,
   "metadata": {},
   "outputs": [],
   "source": [
    "# Define ecdf: Compare data and the normal distribution model to determine if body temperature is normal\n",
    "def ecdf(data):\n",
    "    n = len(data)\n",
    "    x = np.sort(data)\n",
    "    y = np.arange(1, n+1)/n\n",
    "    return x, y"
   ]
  },
  {
   "cell_type": "code",
   "execution_count": 5,
   "metadata": {},
   "outputs": [],
   "source": [
    "# Let's generate 100,000 temperature data that follow a normal distribution \n",
    "# using mean and sd of the dataset to scale the range.\n",
    "\n",
    "tempmean = np.mean(df['temperature'])\n",
    "tempstd = np.std(df['temperature'])\n",
    "samples = np.random.normal(tempmean, tempstd, size = 100000)"
   ]
  },
  {
   "cell_type": "code",
   "execution_count": 6,
   "metadata": {},
   "outputs": [
    {
     "data": {
      "image/png": "[encoded data removed]",
      "text/plain": [
       "<Figure size 432x288 with 1 Axes>"
      ]
     },
     "metadata": {},
     "output_type": "display_data"
    }
   ],
   "source": [
    "# checking normality of temperature data.\n",
    "# CDF shows temperature data are approximately normally distributed\n",
    "\n",
    "sns.set()\n",
    "\n",
    "x, y = ecdf(df['temperature'])\n",
    "x_theor, y_theor = ecdf(samples)\n",
    "\n",
    "_= plt.plot(x, y, marker = '.', linestyle='none')\n",
    "_= plt.plot(x_theor, y_theor)\n",
    "_= plt.xlabel('temperature (F)')\n",
    "_= plt.ylabel('CDF')\n",
    "\n",
    "_= plt.legend(('Sample CDF', 'Theoretical Normal CDF'), loc= 'lower right')\n",
    "plt.show()"
   ]
  },
  {
   "cell_type": "markdown",
   "metadata": {},
   "source": [
    "Theoretical CDF overlay with the empirical CDF suggest that body temperature is normally distributed. "
   ]
  },
  {
   "cell_type": "markdown",
   "metadata": {},
   "source": [
    "### 2. Is the sample size large? Are the observations independent? \n",
    "\n",
    "Remember that this is a condition for CLT, and hence the statistical test we are using, to apply.\n"
   ]
  },
  {
   "cell_type": "code",
   "execution_count": 7,
   "metadata": {
    "scrolled": true
   },
   "outputs": [
    {
     "data": {
      "text/plain": [
       "130"
      ]
     },
     "execution_count": 7,
     "metadata": {},
     "output_type": "execute_result"
    }
   ],
   "source": [
    "len(df)"
   ]
  },
  {
   "cell_type": "markdown",
   "metadata": {},
   "source": [
    "Our sample size is 130, which satisfy the minimum sample size of 30 for CLT. Observation are assumed to be independent as temperature for one person is not related to temperature of another person."
   ]
  },
  {
   "cell_type": "markdown",
   "metadata": {},
   "source": [
    "### 3. Is the true population mean really 98.6 F? \n",
    "\n",
    "First, try a bootstrap hypothesis test. Now, let's try frequentist statistical testing. Would you use a one-sample or two-sample test? Why? In this situation, is it appropriate to use the t or z statistic? Now try using the other test. How is the result be different? Why?\n"
   ]
  },
  {
   "cell_type": "markdown",
   "metadata": {},
   "source": [
    "We are interested in testing if mean temperature is really 98.6F. \n",
    "\n",
    "$$H_0: \\mu_{temp} = 98.6$$\n",
    "\n",
    "$$H_1: \\mu_{temp} \\neq 98.6$$\n",
    "\n"
   ]
  },
  {
   "cell_type": "code",
   "execution_count": 8,
   "metadata": {},
   "outputs": [
    {
     "name": "stdout",
     "output_type": "stream",
     "text": [
      "Given that p-value for bootstrap hypothesis test =  0.0 we reject the null hypothesis that mean body temperature is 98.6 with 95% confidence interval\n"
     ]
    }
   ],
   "source": [
    "# Bootstrap hypothesis test\n",
    "\n",
    "size = 10000\n",
    "bs_replicates = np.empty(size)\n",
    "for i in range(size):\n",
    "    bs_replicates[i] = np.mean(np.random.choice(df['temperature'], len(df['temperature'])))\n",
    "    \n",
    "# compute fraction of replicates that are equal to 98.6\n",
    "bs_replicates = np.around(bs_replicates, decimals=1)\n",
    "p = np.sum(bs_replicates==98.6)/size\n",
    "\n",
    "print(\"Given that p-value for bootstrap hypothesis test = \", p, 'we reject the null hypothesis that mean body temperature is 98.6 with 95% confidence interval')"
   ]
  },
  {
   "cell_type": "markdown",
   "metadata": {},
   "source": [
    "**One-sample or two-sample?**\n",
    "\n",
    "To compare mean of the given sample with generally accepted body temperature of 98.6, I will use **1-sample test** as we are comparing one set of data to a single number, 98.6\n",
    "\n",
    "**t-statistics or z-statistics?**\n",
    "\n",
    "You must know the population standard deviation to be able to use Z-score, since we do not have the population standard deviation, **we will be using t-score**.\n"
   ]
  },
  {
   "cell_type": "code",
   "execution_count": 9,
   "metadata": {},
   "outputs": [
    {
     "name": "stdout",
     "output_type": "stream",
     "text": [
      "t-stat: -5.4548232923645195, p-value: 2.4106320415561276e-07\n"
     ]
    }
   ],
   "source": [
    "# one sample t-test\n",
    "from scipy.stats import ttest_1samp\n",
    "\n",
    "t, p = ttest_1samp(df['temperature'], popmean = 98.6)\n",
    "print(\"t-stat: {}, p-value: {}\".format(t, p))"
   ]
  },
  {
   "cell_type": "markdown",
   "metadata": {},
   "source": [
    "Our t-statistics of -5.45 indicate we would observe a mean of 98.6 at 5.45 sd from the mean and p-value is below significance level of 0.05, hence we reject the null hypothesis"
   ]
  },
  {
   "cell_type": "code",
   "execution_count": 10,
   "metadata": {},
   "outputs": [
    {
     "name": "stdout",
     "output_type": "stream",
     "text": [
      "z-stat: -5.4548232923645195, p-value: 4.9021570141012155e-08\n"
     ]
    }
   ],
   "source": [
    "# one sample z-test\n",
    "\n",
    "from statsmodels.stats.weightstats import ztest\n",
    "z, p = ztest(df['temperature'], value = 98.6)\n",
    "print(\"z-stat: {}, p-value: {}\". format(z, p))"
   ]
  },
  {
   "cell_type": "markdown",
   "metadata": {},
   "source": [
    "t-test and z-test both produced p-values that reject null hypothesis that population mean is 98.6F"
   ]
  },
  {
   "cell_type": "markdown",
   "metadata": {},
   "source": [
    "### 4. Draw a small sample of size 10 from the data and repeat both frequentist tests\n",
    "\n",
    "Which one is the correct one to use?\n",
    "What do you notice? What does this tell you about the difference in application of t and z statistics?\n",
    "\n",
    "\n"
   ]
  },
  {
   "cell_type": "code",
   "execution_count": 15,
   "metadata": {},
   "outputs": [
    {
     "name": "stdout",
     "output_type": "stream",
     "text": [
      "p-value for t-test: 0.24726203575556024 , z-test: 0.21595231087227795\n"
     ]
    }
   ],
   "source": [
    "small_sample = np.random.choice(df['temperature'], size = 10, replace=False)\n",
    "\n",
    "t2, tp = ttest_1samp(small_sample, popmean = 98.6)\n",
    "z2, zp = ztest(small_sample, value = 98.6)\n",
    "\n",
    "print(\"p-value for t-test:\", tp,\", z-test:\", zp)"
   ]
  },
  {
   "cell_type": "markdown",
   "metadata": {},
   "source": [
    "For smaller sample size of 10, we should use t-test.\n",
    "\n",
    "Repeated runs of the t-test and z-test on the smaller sample size of 10 consistently produces lower p-values from the z-test than from the t-test. This is likely due to the fact that the t-test takes into account the degrees of freedom (n-1=129 in this case), whereas the z-test does not take into account the degrees of freedom. In this particular scenario, it seems that if we are able to assume that the sample standard deviation is the population standard deviation and it is appropriate to use the z-test, then we have a higher likelihood of rejecting the null hypothesis."
   ]
  },
  {
   "cell_type": "markdown",
   "metadata": {},
   "source": [
    "### 5 At what temperature should we consider someone's temperature to be \"abnormal\"?\n",
    "\n",
    "As in the previous example, try calculating everything using the boostrap approach, as well as the frequentist approach.\n",
    "\n",
    "Start by computing the margin of error and confidence interval. When calculating the confidence interval, keep in mind that you should use the appropriate formula for one draw, and not N draws.. Is the sample size large? Are the observations independent? \n",
    "\n"
   ]
  },
  {
   "cell_type": "code",
   "execution_count": 23,
   "metadata": {},
   "outputs": [
    {
     "name": "stdout",
     "output_type": "stream",
     "text": [
      "The 95% confidence interval is from  98.1  to  98.4 .\n",
      "\n",
      "The margin of error, as computed from the bootstrap replicates, is:  0.13896184923582383\n",
      "\n",
      "Temperatures above and below the confidence interval are considered statistically abnormal.\n"
     ]
    }
   ],
   "source": [
    "# Bootstrap approach\n",
    "# compute 95% CI.\n",
    "CI = np.percentile(bs_replicates, [2.5, 97.5])\n",
    "\n",
    "# compute margin of error\n",
    "moe = 1.96 * bs_replicates.std()\n",
    "print('The 95% confidence interval is from ', CI[0], ' to ', CI[1], '.')\n",
    "print()\n",
    "print('The margin of error, as computed from the bootstrap replicates, is: ', moe)\n",
    "print()\n",
    "print('Temperatures above and below the confidence interval are considered statistically abnormal.')"
   ]
  },
  {
   "cell_type": "markdown",
   "metadata": {},
   "source": [
    "### 6. Is there a significant difference between males and females in normal temperature?\n",
    "\n",
    "What testing approach did you use and why?\n",
    "Write a story with your conclusion in the context of the original problem.\n"
   ]
  },
  {
   "cell_type": "code",
   "execution_count": 22,
   "metadata": {},
   "outputs": [
    {
     "name": "stdout",
     "output_type": "stream",
     "text": [
      "The null hypothesis claims that the mean body temperatures of males is the same as the mean body temperature of females.\n",
      "P-value for two-sample t-test:  0.02393188312239561\n",
      "Given that the p value is sufficiently small, <0.05, we reject the null hypothesis.\n"
     ]
    }
   ],
   "source": [
    "# Segment population by gender\n",
    "males = df.loc[(df.gender == 'M')]\n",
    "females = df.loc[(df.gender == 'F')]\n",
    "\n",
    "# Perform two-sample t-test\n",
    "from scipy.stats import ttest_ind\n",
    "t, p = ttest_ind(males['temperature'], females['temperature'])\n",
    "print('The null hypothesis claims that the mean body temperatures of males is the same as the mean body temperature of females.')\n",
    "print('P-value for two-sample t-test: ', p)\n",
    "print('Given that the p value is sufficiently small, <0.05, we reject the null hypothesis.')"
   ]
  }
 ],
 "metadata": {
  "kernelspec": {
   "display_name": "Python [default]",
   "language": "python",
   "name": "python3"
  },
  "language_info": {
   "codemirror_mode": {
    "name": "ipython",
    "version": 3
   },
   "file_extension": ".py",
   "mimetype": "text/x-python",
   "name": "python",
   "nbconvert_exporter": "python",
   "pygments_lexer": "ipython3",
   "version": "3.6.2"
  }
 },
 "nbformat": 4,
 "nbformat_minor": 1
}
